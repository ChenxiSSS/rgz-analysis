{
 "metadata": {
  "name": ""
 },
 "nbformat": 3,
 "nbformat_minor": 0,
 "worksheets": [
  {
   "cells": [
    {
     "cell_type": "heading",
     "level": 1,
     "metadata": {},
     "source": [
      "Documentation of the Radio Galaxy Zoo database"
     ]
    },
    {
     "cell_type": "heading",
     "level": 4,
     "metadata": {},
     "source": [
      "Kyle Willett, University of Minnesota"
     ]
    },
    {
     "cell_type": "markdown",
     "metadata": {},
     "source": [
      "The following is a brief description of the data structures and organization for the Radio Galaxy Zoo (RGZ) citizen science project, organized as part of the Zooniverse. \n",
      "\n",
      "The data for the project is stored on Amazon Web Services using MongoDB. MongoDB is a \"NoSQL\"-type database, meaning that it does not operate on traditional joins and tabular relations such as those used in SQL. Individual records are stored as data documents in JSON or BSON formats.\n",
      "\n",
      "The examples below show how MongoDB can be queried using Python and the pymongo module.\n",
      "\n",
      "The live version of the database is stored on the Amazon servers and is not designed to be directly queried by the science team, since that can potentially slow the response of the system for the volunteers. Access for the science team to do analysis should be done on the backup copies, which are obtained through email links sent out weekly. *Contact Chris Snyder at Zooniverse (cs@zooniverse.org) if you want to be put on the email list for this.*\n",
      "\n",
      "There are three databases for RGZ data: radio_classifications, radio_subjects, and radio_users. All are stored in the BSON files of the same time, which you can find after downloading the backup copies and untarring the zip file locally. "
     ]
    },
    {
     "cell_type": "code",
     "collapsed": false,
     "input": [
      "from pymongo import MongoClient\n",
      "\n",
      "# Load the Mongo database so we can show examples of each data type. In this case, I have already restored the MongoDB files\n",
      "# to my machine and am running a local instance of mongod on port 27017. \n",
      "client = MongoClient(\"localhost\",27017)\n",
      "\n",
      "# Select the default database name (ouroboros) for RGZ classifications\n",
      "db = client['ouroboros']"
     ],
     "language": "python",
     "metadata": {},
     "outputs": [],
     "prompt_number": 168
    },
    {
     "cell_type": "heading",
     "level": 3,
     "metadata": {},
     "source": [
      "Database #1: radio_subjects"
     ]
    },
    {
     "cell_type": "markdown",
     "metadata": {},
     "source": [
      "The ```radio_subjects``` collection contains the information and metadata for each subject (in this case, a radio source from the FIRST survey) being classified as part of RGZ. As of the project launch in late December 2013, this comprises 175,001 images (175,000 galaxies + 1 tutorial subject). Let's look at what data is being stored for a subject."
     ]
    },
    {
     "cell_type": "code",
     "collapsed": false,
     "input": [
      "# If all the RGZ data has been loaded in, there should be three collections available. Let's first look at the subjects.\n",
      "subjects = db['radio_subjects']\n",
      "\n",
      "# Extract a sample subject from the collection and print the data to the screen.\n",
      "import pprint\n",
      "sample_subject = subjects.find_one()     # In MongoDB, the data is stored similar to a JSON file; \n",
      "                                         # in Python, it is a nested dictionary.\n",
      "\n",
      "pprint.pprint(sample_subject)"
     ],
     "language": "python",
     "metadata": {},
     "outputs": [
      {
       "output_type": "stream",
       "stream": "stdout",
       "text": [
        "{u'_id': ObjectId('52af7d53eb9a9b05ef000001'),\n",
        " u'activated_at': datetime.datetime(2013, 12, 17, 17, 45, 13, 844000),\n",
        " u'classification_count': 20,\n",
        " u'coords': [206.419375, 23.382361111111113],\n",
        " u'created_at': datetime.datetime(2013, 12, 17, 9, 16, 38, 435000),\n",
        " u'location': {u'contours': u'http://radio.galaxyzoo.org/subjects/contours/52af7d53eb9a9b05ef000001.json',\n",
        "               u'radio': u'http://radio.galaxyzoo.org/subjects/radio/52af7d53eb9a9b05ef000001.jpg',\n",
        "               u'standard': u'http://radio.galaxyzoo.org/subjects/standard/52af7d53eb9a9b05ef000001.jpg'},\n",
        " u'metadata': {u'dec_dms': u'23.0 22.0 56.5',\n",
        "               u'ra_hms': u'13.0 45.0 40.65',\n",
        "               u'rms': u'0.000178',\n",
        "               u'source': u'FIRSTJ134540.6+232256'},\n",
        " u'project_id': ObjectId('52afdb804d69636532000001'),\n",
        " u'random': 0.5988090089044151,\n",
        " u'state': u'complete',\n",
        " u'updated_at': datetime.datetime(2013, 12, 17, 9, 16, 38, 468000),\n",
        " u'workflow_ids': [ObjectId('52afdb804d69636532000002')],\n",
        " u'zooniverse_id': u'ARG000255t'}\n"
       ]
      }
     ],
     "prompt_number": 171
    },
    {
     "cell_type": "markdown",
     "metadata": {},
     "source": [
      "The subject contains lots of data associated with the galaxy, as well as several IDs that can be used as keys to match this against the other databases. \n",
      "\n",
      "Every document contains a **unique ID** which acts as the primary key. In the collection itself, this is always designated as '_id'. If you're trying to find matches for this in other collections, the key is renamed; for example, 'subject_ids' in the classifications database is matched on '_id' in the collections database."
     ]
    },
    {
     "cell_type": "code",
     "collapsed": false,
     "input": [
      "print sample_subject['_id']"
     ],
     "language": "python",
     "metadata": {},
     "outputs": [
      {
       "output_type": "stream",
       "stream": "stdout",
       "text": [
        "52af7d53eb9a9b05ef000001\n"
       ]
      }
     ],
     "prompt_number": 143
    },
    {
     "cell_type": "markdown",
     "metadata": {},
     "source": [
      "**Dates and times** for when the object was first inserted into the database (created), activated as a subject that could be classified, and last updated. This last date will either be the date of its last classification on the site, or when the metadata was for some reason changed. These should all be in Universal Time (UT).\n"
     ]
    },
    {
     "cell_type": "code",
     "collapsed": false,
     "input": [
      "print sample_subject['activated_at'];\n",
      "print sample_subject['created_at'];\n",
      "print sample_subject['updated_at'];"
     ],
     "language": "python",
     "metadata": {},
     "outputs": [
      {
       "output_type": "stream",
       "stream": "stdout",
       "text": [
        "2013-12-17 17:45:13.844000\n",
        "2013-12-17 09:16:38.435000\n",
        "2013-12-17 09:16:38.468000\n"
       ]
      }
     ],
     "prompt_number": 144
    },
    {
     "cell_type": "markdown",
     "metadata": {},
     "source": [
      "**Astronomical metadata** on the source. This includes coordinates (RA and dec in decimal degrees) as well as coordinates (sexagesimal), the constructed source name, and rms value *(not sure about the last one)*. "
     ]
    },
    {
     "cell_type": "code",
     "collapsed": false,
     "input": [
      "print sample_subject['metadata']['source']\n",
      "print 'RA  [hms]: %s' % sample_subject['metadata']['ra_hms']\n",
      "print 'dec [dms]: %s' % sample_subject['metadata']['dec_dms']\n",
      "print 'RA, dec (decimal degrees): %.2f,%.2f' % (float(sample_subject['coords'][0]),float(sample_subject['coords'][1]));\n",
      "print 'rms: %.3e' % float(sample_subject['metadata']['rms'])"
     ],
     "language": "python",
     "metadata": {},
     "outputs": [
      {
       "output_type": "stream",
       "stream": "stdout",
       "text": [
        "FIRSTJ134540.6+232256\n",
        "RA  [hms]: 13.0 45.0 40.65\n",
        "dec [dms]: 23.0 22.0 56.5\n",
        "RA, dec (decimal degrees): 206.42,23.38\n",
        "rms: 1.780e-04\n"
       ]
      }
     ],
     "prompt_number": 145
    },
    {
     "cell_type": "markdown",
     "metadata": {},
     "source": [
      "Information on the **classification status** of the object. If the object exceeds 20 classifications, it is marked as *complete* and retired from active classification. "
     ]
    },
    {
     "cell_type": "code",
     "collapsed": false,
     "input": [
      "print sample_subject['classification_count'];\n",
      "print sample_subject['state']"
     ],
     "language": "python",
     "metadata": {},
     "outputs": [
      {
       "output_type": "stream",
       "stream": "stdout",
       "text": [
        "20\n",
        "complete\n"
       ]
      }
     ],
     "prompt_number": 146
    },
    {
     "cell_type": "markdown",
     "metadata": {},
     "source": [
      "**Other IDs** in the system include the project ID, which tells the system that this object is associated with RGZ (should be the same for all subjects), the Zooniverse ID (which can be used to find the object in Talk), and the workflow ID (which designates the workflows within a project that can be applied to this subject). At the moment, we have only a single workflow for all of RGZ."
     ]
    },
    {
     "cell_type": "code",
     "collapsed": false,
     "input": [
      "print sample_subject['project_id'];\n",
      "print sample_subject['workflow_ids'][0];\n",
      "print sample_subject['zooniverse_id']"
     ],
     "language": "python",
     "metadata": {},
     "outputs": [
      {
       "output_type": "stream",
       "stream": "stdout",
       "text": [
        "52afdb804d69636532000001\n",
        "52afdb804d69636532000002\n",
        "ARG000255t\n"
       ]
      }
     ],
     "prompt_number": 147
    },
    {
     "cell_type": "markdown",
     "metadata": {},
     "source": [
      "The **URLs for the raw data** are also given in the file. The radio contour information is stored as a series of coordinates (in pixel space) in JSON format, and the radio and IR images are stored as JPGs. Can be handily used if you ever want to grab the raw subject."
     ]
    },
    {
     "cell_type": "code",
     "collapsed": false,
     "input": [
      "print sample_subject['location']['contours'];     # FIRST radio contours\n",
      "print sample_subject['location']['radio'];        # FIRST radio image at full opacity\n",
      "print sample_subject['location']['standard'];     # WISE infrared image at full opacity"
     ],
     "language": "python",
     "metadata": {},
     "outputs": [
      {
       "output_type": "stream",
       "stream": "stdout",
       "text": [
        "http://radio.galaxyzoo.org/subjects/contours/52af7d53eb9a9b05ef000001.json\n",
        "http://radio.galaxyzoo.org/subjects/radio/52af7d53eb9a9b05ef000001.jpg\n",
        "http://radio.galaxyzoo.org/subjects/standard/52af7d53eb9a9b05ef000001.jpg\n"
       ]
      }
     ],
     "prompt_number": 148
    },
    {
     "cell_type": "heading",
     "level": 3,
     "metadata": {},
     "source": [
      "Database #2: radio_classifications"
     ]
    },
    {
     "cell_type": "markdown",
     "metadata": {},
     "source": [
      "The ```radio_classifications``` database contains the actual annotations being performed by the users on our subjects. This also collects metadata on the classification process (timestamp, browser used, etc.) and IDs that can be used to link this datum to the RGZ subject or to the user who classified it. As of 3 Mar 2014, the RGZ database had registered 533,934 unique classifications."
     ]
    },
    {
     "cell_type": "code",
     "collapsed": false,
     "input": [
      "# Retrieve classifications from the database\n",
      "classifications = db['radio_classifications']\n",
      "\n",
      "# Find the latest date for which a classification was performed\n",
      "mrc = classifications.find().sort([(\"updated_at\", -1)]).limit(1)\n",
      "most_recent_date = [x for x in mrc][0]['updated_at']\n",
      "\n",
      "from datetime import datetime\n",
      "tf = '%a, %d %b %Y %H:%M:%S %Z'\n",
      "\n",
      "# Find total number of classifications \n",
      "print 'There are %i unique classifications as of %s.' % (classifications.find().count(),datetime.strftime(most_recent_date,tf))"
     ],
     "language": "python",
     "metadata": {},
     "outputs": [
      {
       "output_type": "stream",
       "stream": "stdout",
       "text": [
        "There are 533934 unique classifications as of Mon, 03 Mar 2014 10:17:53 .\n"
       ]
      }
     ],
     "prompt_number": 149
    },
    {
     "cell_type": "code",
     "collapsed": false,
     "input": [
      "# Retrieve sample classification. Let's make it one that I (KWW) did.\n",
      "my_id = db['radio_users'].find_one({'name':'KWillett'})['_id']\n",
      "sample_classification = classifications.find_one({'user_id':my_id})\n",
      "pprint.pprint(sample_classification)"
     ],
     "language": "python",
     "metadata": {},
     "outputs": [
      {
       "output_type": "stream",
       "stream": "stdout",
       "text": [
        "{u'_id': ObjectId('52dd541b35cb5d7d76000576'),\n",
        " u'annotations': [{u'ir': {u'0': {u'x': u'216', u'y': u'229'}},\n",
        "                   u'radio': {u'0': {u'scale_height': u'3.2442748091603053',\n",
        "                                     u'scale_width': u'3.2196969696969697',\n",
        "                                     u'xmax': u'73.10710356353849',\n",
        "                                     u'xmin': u'62.22619851927605',\n",
        "                                     u'ymax': u'80.45084724053386',\n",
        "                                     u'ymin': u'61.529507305686664'}}},\n",
        "                  {u'finished_at': u'Mon, 20 Jan 2014 16:51:39 GMT',\n",
        "                   u'started_at': u'Mon, 20 Jan 2014 16:51:31 GMT'},\n",
        "                  {u'user_agent': u'Mozilla/5.0 (Macintosh; Intel Mac OS X 10_9_1) AppleWebKit/537.36 (KHTML, like Gecko) Chrome/32.0.1700.77 Safari/537.36'},\n",
        "                  {u'lang': u'en'}],\n",
        " u'created_at': datetime.datetime(2014, 1, 20, 16, 51, 39),\n",
        " u'project_id': ObjectId('52afdb804d69636532000001'),\n",
        " u'subject_ids': [ObjectId('52af810f7aa69f059a0048ec')],\n",
        " u'subjects': [{u'id': ObjectId('52af810f7aa69f059a0048ec'),\n",
        "                u'location': {u'contours': u'http://radio.galaxyzoo.org/subjects/contours/52af810f7aa69f059a0048ec.json',\n",
        "                              u'radio': u'http://radio.galaxyzoo.org/subjects/radio/52af810f7aa69f059a0048ec.jpg',\n",
        "                              u'standard': u'http://radio.galaxyzoo.org/subjects/standard/52af810f7aa69f059a0048ec.jpg'},\n",
        "                u'zooniverse_id': u'ARG0002buk'}],\n",
        " u'tutorial': False,\n",
        " u'updated_at': datetime.datetime(2014, 1, 20, 16, 51, 35, 997000),\n",
        " u'user_id': ObjectId('503fad32ba40af241100063a'),\n",
        " u'user_ip': u'75.72.226.46',\n",
        " u'user_name': u'KWillett',\n",
        " u'workflow_id': ObjectId('52afdb804d69636532000002')}\n"
       ]
      }
     ],
     "prompt_number": 150
    },
    {
     "cell_type": "markdown",
     "metadata": {},
     "source": [
      "As with all documents, each classification has a **unique ID**. This is referred to as \"\\_id\" in this collection, and as \"classification_id\" when matching it in other collections."
     ]
    },
    {
     "cell_type": "code",
     "collapsed": false,
     "input": [
      "print sample_classification['_id']"
     ],
     "language": "python",
     "metadata": {},
     "outputs": [
      {
       "output_type": "stream",
       "stream": "stdout",
       "text": [
        "52dd541b35cb5d7d76000576\n"
       ]
      }
     ],
     "prompt_number": 151
    },
    {
     "cell_type": "markdown",
     "metadata": {},
     "source": [
      "There are **other IDs** to match this classification against its project (RGZ), the workflow used (standard radio contour + IR host identification), and subject (the galaxy being worked on)."
     ]
    },
    {
     "cell_type": "code",
     "collapsed": false,
     "input": [
      "print sample_classification['project_id'];\n",
      "print sample_classification['subject_ids'][0];\n",
      "print sample_classification['workflow_id'];"
     ],
     "language": "python",
     "metadata": {},
     "outputs": [
      {
       "output_type": "stream",
       "stream": "stdout",
       "text": [
        "52afdb804d69636532000001\n",
        "52af810f7aa69f059a0048ec\n",
        "52afdb804d69636532000002\n"
       ]
      }
     ],
     "prompt_number": 152
    },
    {
     "cell_type": "markdown",
     "metadata": {},
     "source": [
      "There is some **metadata** on the act of performing the classification by the user. This includes the browser system they used, their IP address, timestamps for when they started and finished the classification, and when the classification was loaded into the system."
     ]
    },
    {
     "cell_type": "code",
     "collapsed": false,
     "input": [
      "print 'IP address: %s' % sample_classification['user_ip'];\n",
      "print sample_classification['annotations'][2]['user_agent'];\n",
      "\n",
      "# Convert timestamps into Python datetime objects and we can do math on them.\n",
      "started = datetime.strptime(sample_classification['annotations'][1]['started_at'],tf);\n",
      "finished = datetime.strptime(sample_classification['annotations'][1]['finished_at'],tf);\n",
      "print ''\n",
      "print 'Started classification at:  %s' % datetime.strftime(started,tf);\n",
      "print 'Finished classification at: %s' % datetime.strftime(finished,tf);\n",
      "print 'User took %.2f seconds to finish classification' % (finished - started).seconds\n",
      "\n",
      "print ''\n",
      "print sample_classification['created_at'];   # Should be within seconds of user completing classification\n",
      "print sample_classification['updated_at'];"
     ],
     "language": "python",
     "metadata": {},
     "outputs": [
      {
       "output_type": "stream",
       "stream": "stdout",
       "text": [
        "IP address: 75.72.226.46\n",
        "Mozilla/5.0 (Macintosh; Intel Mac OS X 10_9_1) AppleWebKit/537.36 (KHTML, like Gecko) Chrome/32.0.1700.77 Safari/537.36\n",
        "\n",
        "Started classification at:  Mon, 20 Jan 2014 16:51:31 \n",
        "Finished classification at: Mon, 20 Jan 2014 16:51:39 \n",
        "User took 8.00 seconds to finish classification\n",
        "\n",
        "2014-01-20 16:51:39\n",
        "2014-01-20 16:51:35.997000\n"
       ]
      }
     ],
     "prompt_number": 167
    },
    {
     "cell_type": "markdown",
     "metadata": {},
     "source": [
      "There is a True/False keyword to indicate if the classification was on the **tutorial** subject."
     ]
    },
    {
     "cell_type": "code",
     "collapsed": false,
     "input": [
      "\n",
      "print 'The RGZ tutorial has been completed %i times as of %s.' % (classifications.find({'tutorial':True}).count(),datetime.strftime(most_recent_date,tf))"
     ],
     "language": "python",
     "metadata": {},
     "outputs": [
      {
       "output_type": "stream",
       "stream": "stdout",
       "text": [
        "The RGZ tutorial has been completed 22263 times as of Mon, 03 Mar 2014 10:17:53 .\n"
       ]
      }
     ],
     "prompt_number": 154
    },
    {
     "cell_type": "markdown",
     "metadata": {},
     "source": [
      "Finally, the **annotations** themselves. The annotations are stored as a list of JSON elements; each element in the list corresponds to a unique infrared identification made by the user, and any radio components they selected as being associated with that infrared source. We allowed users to select more than one set of IR/radio associations in each image, although this may end up not being what we wanted --- there should have been only a single source per image. \n",
      "\n",
      "Information for the IR source is given as a single set of (x,y) coordinates in pixel space. This is the center position (rounded to the nearest pixel) of where the users clicked on the image. The location of the radio components is given as the four corners of the box containing the contours of the component.\n",
      "\n",
      "Here is an example of a classification where the user identified a single IR host galaxy and one radio component."
     ]
    },
    {
     "cell_type": "code",
     "collapsed": false,
     "input": [
      "ir_coordinates = sample_classification['annotations'][0]['ir']['0']\n",
      "radio_coordinates = sample_classification['annotations'][0]['radio']\n",
      "\n",
      "r = radio_coordinates['0']\n",
      "\n",
      "print 'IR source is located at (x,y) = (%i,%i)' % (int(ir_coordinates['x']),int(ir_coordinates['y']))\n",
      "print 'Radio component (xmin, xmax, ymin, ymax) = (%.2f, %.2f, %.2f, %.2f)' % (float(r['xmin']),float(r['xmax']),float(r['ymin']),float(r['ymax']))"
     ],
     "language": "python",
     "metadata": {},
     "outputs": [
      {
       "output_type": "stream",
       "stream": "stdout",
       "text": [
        "IR source is located at (x,y) = (216,229)\n",
        "Radio component (xmin, xmax, ymin, ymax) = (62.23, 73.11, 61.53, 80.45)\n"
       ]
      }
     ],
     "prompt_number": 155
    },
    {
     "cell_type": "markdown",
     "metadata": {},
     "source": [
      "Somewhat confusingly, the pixel scales for the radio and IR coordinates are **NOT** the same. To convert between them, they must be multiplied by a scaling factor, which is included in the data:"
     ]
    },
    {
     "cell_type": "code",
     "collapsed": false,
     "input": [
      "sh = float(sample_classification['annotations'][0]['radio']['0']['scale_height'])\n",
      "sw = float(sample_classification['annotations'][0]['radio']['0']['scale_width'])\n",
      "\n",
      "print 'Coordinates of radio and IR components on the same system:'\n",
      "print ''\n",
      "print 'IR source is located at (x,y) = (%i,%i)' % (int(ir_coordinates['x']),int(ir_coordinates['y']))\n",
      "print 'Radio component (xmin, xmax, ymin, ymax) = (%.2f, %.2f, %.2f, %.2f)' % (float(r['xmin'])*sw,float(r['xmax'])*sw,float(r['ymin'])*sh,float(r['ymax'])*sh)"
     ],
     "language": "python",
     "metadata": {},
     "outputs": [
      {
       "output_type": "stream",
       "stream": "stdout",
       "text": [
        "Coordinates of radio and IR components on the same system:\n",
        "\n",
        "IR source is located at (x,y) = (216,229)\n",
        "Radio component (xmin, xmax, ymin, ymax) = (200.35, 235.38, 199.62, 261.00)\n"
       ]
      }
     ],
     "prompt_number": 160
    },
    {
     "cell_type": "markdown",
     "metadata": {},
     "source": [
      "Let's look at the images and see if the classification seems reasonable."
     ]
    },
    {
     "cell_type": "code",
     "collapsed": false,
     "input": [
      "from IPython.display import Image\n",
      "\n",
      "# Show the radio image\n",
      "Image(url=sample_subject['location']['radio'])"
     ],
     "language": "python",
     "metadata": {},
     "outputs": [
      {
       "html": [
        "<img src=\"http://radio.galaxyzoo.org/subjects/radio/52af7d53eb9a9b05ef000001.jpg\"/>"
       ],
       "metadata": {},
       "output_type": "pyout",
       "prompt_number": 165,
       "text": [
        "<IPython.core.display.Image at 0x104c9d0d0>"
       ]
      }
     ],
     "prompt_number": 165
    },
    {
     "cell_type": "code",
     "collapsed": false,
     "input": [
      "# Show the infrared image\n",
      "Image(url=sample_subject['location']['standard'])"
     ],
     "language": "python",
     "metadata": {},
     "outputs": [
      {
       "html": [
        "<img src=\"http://radio.galaxyzoo.org/subjects/standard/52af7d53eb9a9b05ef000001.jpg\"/>"
       ],
       "metadata": {},
       "output_type": "pyout",
       "prompt_number": 166,
       "text": [
        "<IPython.core.display.Image at 0x104c9d990>"
       ]
      }
     ],
     "prompt_number": 166
    },
    {
     "cell_type": "heading",
     "level": 3,
     "metadata": {},
     "source": [
      "Database #3: radio_users"
     ]
    },
    {
     "cell_type": "markdown",
     "metadata": {},
     "source": [
      "The third database contains the information for all of the users who have participated in RGZ. "
     ]
    },
    {
     "cell_type": "code",
     "collapsed": false,
     "input": [
      "# Database of users for RGZ\n",
      "users = db['radio_users']\n",
      "\n",
      "# Find my record as an example user\n",
      "sample_user = users.find_one({'name':'KWillett'})\n",
      "pprint.pprint(sample_user)"
     ],
     "language": "python",
     "metadata": {},
     "outputs": [
      {
       "output_type": "stream",
       "stream": "stdout",
       "text": [
        "{u'_id': ObjectId('503fad32ba40af241100063a'),\n",
        " u'api_key': u'3ff69a72d0e143167bb8',\n",
        " u'avatar': u'http://zooniverse-avatars.s3.amazonaws.com/users/570417/forum.png',\n",
        " u'classification_count': 819,\n",
        " u'email': u'willettk@gmail.com',\n",
        " u'favorite_count': 16,\n",
        " u'ip': u'131.212.231.203',\n",
        " u'name': u'KWillett',\n",
        " u'preferences': {u'5101a1341a320ea77f000001': {u'dashboard': {u'tutorial': True}},\n",
        "                  u'51e6fcdd3ae74023b9000001': {u'dashboard': {u'tutorial': True}},\n",
        "                  u'dashboard': {u'beta': True, u'welcome_tut': True},\n",
        "                  u'm83_tutorial_done': u'true',\n",
        "                  u'radio': {u'tutorial_done': u'true'},\n",
        "                  u'wise': {u'tutorial_done': u'true'}},\n",
        " u'projects': {u'4fdf8fb3c32dab6c95000001': {u'classification_count': 7,\n",
        "                                             u'favorite_count': 0,\n",
        "                                             u'recent_count': 5,\n",
        "                                             u'splits': {},\n",
        "                                             u'tutorial_done': True},\n",
        "               u'4fff255d516bcb407b000001': {u'classification_count': 16,\n",
        "                                             u'favorite_count': 0,\n",
        "                                             u'recent_count': 16,\n",
        "                                             u'splits': {},\n",
        "                                             u'tutorial_done': True},\n",
        "               u'502a701d516bcb0001000001': {u'classification_count': 2,\n",
        "                                             u'favorite_count': 0,\n",
        "                                             u'invitation': {u'response': u'no',\n",
        "                                                             u'timestamp': datetime.datetime(2012, 9, 12, 20, 9, 53, 739000)},\n",
        "                                             u'last_active_at': datetime.datetime(2012, 9, 12, 20, 9, 53, 739000),\n",
        "                                             u'recent_count': 2,\n",
        "                                             u'splits': {},\n",
        "                                             u'tutorial_done': True},\n",
        "               u'502a90cd516bcb060c000001': {u'classification_count': 182,\n",
        "                                             u'favorite_count': 7,\n",
        "                                             u'groups': {u'50251c3b516bcb6ecb000001': {u'classification_count': 34},\n",
        "                                                         u'50251c3b516bcb6ecb000002': {u'classification_count': 136},\n",
        "                                                         u'5244909c3ae7402d53000001': {u'classification_count': 9},\n",
        "                                                         u'5249cbce3ae740728d000001': {u'classification_count': 3}},\n",
        "                                             u'recent_count': 62,\n",
        "                                             u'splits': {},\n",
        "                                             u'talk': {u'active_at': datetime.datetime(2013, 10, 7, 1, 34, 18, 416000)}},\n",
        "               u'503293e6516bcb6782000001': {u'classification_count': 12,\n",
        "                                             u'favorite_count': 1,\n",
        "                                             u'groups': {u'50575d4d516bcb57170246d7': {u'classification_count': 6},\n",
        "                                                         u'50575db3516bcb5717025c85': {u'classification_count': 6}},\n",
        "                                             u'recent_count': 12,\n",
        "                                             u'reveal_count': 2,\n",
        "                                             u'splits': {u'classifier_messaging': u'b'}},\n",
        "               u'5040d826a7823f1d95000001': {u'classification_count': 4,\n",
        "                                             u'favorite_count': 2,\n",
        "                                             u'recent_count': 2,\n",
        "                                             u'splits': {}},\n",
        "               u'5077375154558fabd7000001': {u'classification_count': 349,\n",
        "                                             u'favorite_count': 6,\n",
        "                                             u'groups': {u'50c6197ea2fc8e1110000001': {u'classification_count': 49},\n",
        "                                                         u'50c61e51a2fc8e1110000002': {u'classification_count': 79},\n",
        "                                                         u'50c62517a2fc8e1110000003': {u'classification_count': 69},\n",
        "                                                         u'50e477293ae740a45f000001': {u'classification_count': 31},\n",
        "                                                         u'51ad041f3ae7401ecc000001': {u'classification_count': 119},\n",
        "                                                         u'51f158983ae74082bb000001': {u'classification_count': 2,\n",
        "                                                                                       u'name': u'season_6'}},\n",
        "                                             u'recent_count': 228,\n",
        "                                             u'splits': {u'classifier_messaging': u'b'},\n",
        "                                             u'talk': {u'active_at': datetime.datetime(2013, 9, 17, 16, 18, 53, 464000)},\n",
        "                                             u'tutorial_done': True},\n",
        "               u'507edef23ae74020d6000001': {u'classification_count': 29,\n",
        "                                             u'recent_count': 3,\n",
        "                                             u'splits': {},\n",
        "                                             u'tutorial_done': True},\n",
        "               u'50e9e3d33ae740f1f3000001': {u'splits': {},\n",
        "                                             u'talk': {u'active_at': datetime.datetime(2013, 5, 31, 15, 29, 9, 548000)}},\n",
        "               u'5101a1341a320ea77f000001': {u'annotation_count': 10,\n",
        "                                             u'classification_count': 44,\n",
        "                                             u'groups': {u'5154a3783ae74086ab000001': {u'classification_count': 39},\n",
        "                                                         u'5154a3783ae74086ab000002': {u'classification_count': 5}},\n",
        "                                             u'splits': {},\n",
        "                                             u'talk': {u'active_at': datetime.datetime(2013, 9, 12, 14, 18, 13, 926000)}},\n",
        "               u'511410da3ae740c3ec000001': {u'classification_count': 42,\n",
        "                                             u'groups': {u'5170103b3ae74027cf000002': {u'classification_count': 16},\n",
        "                                                         u'517010563ae74027d3000002': {u'classification_count': 26}},\n",
        "                                             u'splits': {},\n",
        "                                             u'talk': {u'active_at': datetime.datetime(2013, 7, 1, 15, 36, 51, 759000)}},\n",
        "               u'5154abce3ae740898b000001': {u'splits': {}},\n",
        "               u'516d6f243ae740bc96000001': {u'classification_count': 3,\n",
        "                                             u'splits': {u'tutorial': u'j'},\n",
        "                                             u'talk': {u'active_at': datetime.datetime(2013, 9, 17, 15, 35, 35, 426000)},\n",
        "                                             u'tutorial_done': True},\n",
        "               u'51c1c9523ae74071c0000001': {u'classification_count': 27,\n",
        "                                             u'groups': {u'530be1183ae74079c3000001': {u'classification_count': 5,\n",
        "                                                                                       u'name': u'bin_0_20'},\n",
        "                                                         u'530be1183ae74079c3000003': {u'classification_count': 9,\n",
        "                                                                                       u'name': u'bin_20_40'},\n",
        "                                                         u'530be1183ae74079c3000005': {u'classification_count': 6,\n",
        "                                                                                       u'name': u'bin_40_50'},\n",
        "                                                         u'530be1183ae74079c3000007': {u'classification_count': 4,\n",
        "                                                                                       u'name': u'bin_50_60'},\n",
        "                                                         u'530be1183ae74079c300000b': {u'classification_count': 3,\n",
        "                                                                                       u'name': u'bin_65_90'}},\n",
        "                                             u'splits': {}},\n",
        "               u'51c9bba83ae7407725000001': {u'classification_count': 3,\n",
        "                                             u'score': 400,\n",
        "                                             u'splits': {},\n",
        "                                             u'tutorial_done': True},\n",
        "               u'51e6fcdd3ae74023b9000001': {u'classification_count': 15,\n",
        "                                             u'splits': {},\n",
        "                                             u'talk': {u'active_at': datetime.datetime(2013, 9, 19, 19, 21, 27, 932000)}},\n",
        "               u'523ca1a03ae74053b9000001': {u'classification_count': 23,\n",
        "                                             u'groups': {u'523ca1a03ae74053b9000003': {u'classification_count': 11},\n",
        "                                                         u'523ca1a03ae74053b9000004': {u'classification_count': 12}},\n",
        "                                             u'splits': {},\n",
        "                                             u'tutorial_done': True},\n",
        "               u'52afdb804d69636532000001': {u'classification_count': 30,\n",
        "                                             u'splits': {},\n",
        "                                             u'tutorial_done': True},\n",
        "               u'52d065303ae740380a000001': {u'activity_count': 5,\n",
        "                                             u'classification_count': 8,\n",
        "                                             u'diary_date_count': 9,\n",
        "                                             u'groups': {u'52d0568d3ae74026a3014592': {u'classification_count': 8,\n",
        "                                                                                       u'name': u'3 CAVALRY DIVISION: 14 Mobile Veterinary Section '}},\n",
        "                                             u'person_count': 3,\n",
        "                                             u'place_count': 9,\n",
        "                                             u'splits': {}},\n",
        "               u'52d1718e3ae7401cc8000001': {u'classification_count': 2,\n",
        "                                             u'splits': {}},\n",
        "               u'52e2cfc1806ea54590000001': {u'classification_count': 19,\n",
        "                                             u'splits': {}}},\n",
        " u'recent_count': 330,\n",
        " u'talk': {u'roles': {u'502a90cd516bcb060c000001': [u'scientist',\n",
        "                                                    u'moderator'],\n",
        "                      u'51e6fcdd3ae74023b9000001': [u'scientist'],\n",
        "                      u'52afdb804d69636532000001': [u'scientist',\n",
        "                                                    u'moderator']}},\n",
        " u'user_groups': [{u'id': ObjectId('50759e59d10d2426d0000d0f'),\n",
        "                   u'name': u'UMN Zooites'},\n",
        "                  {u'id': ObjectId('520bd2aee917ff7b35000051'),\n",
        "                   u'name': u'UBERT Workshop'}],\n",
        " u'zooniverse_id': 570417}\n"
       ]
      }
     ],
     "prompt_number": 157
    },
    {
     "cell_type": "markdown",
     "metadata": {},
     "source": [
      "This contains information on all the Zooniverse projects I've been doing, not just Radio Galaxy Zoo. To limit it to RGZ work, look for the matching project ID."
     ]
    },
    {
     "cell_type": "code",
     "collapsed": false,
     "input": [
      "rgz_id = sample_subject['project_id']\n",
      "rgz_user = sample_user['projects'][str(rgz_id)]\n",
      "\n",
      "print 'User has %scompleted the RGZ tutorial' % '' if rgz_user['tutorial_done'] else 'not '\n",
      "print 'User has classified %i RGZ subjects' % rgz_user['classification_count']"
     ],
     "language": "python",
     "metadata": {},
     "outputs": [
      {
       "output_type": "stream",
       "stream": "stdout",
       "text": [
        "User has completed the RGZ tutorial\n",
        "User has classified 30 RGZ subjects\n"
       ]
      }
     ],
     "prompt_number": 158
    },
    {
     "cell_type": "markdown",
     "metadata": {},
     "source": [
      "To identify the user, there is a unique ID that serves as the primary key, as well as their name and IP address (if logged in). Either the ID or the name can be used to match classifications to the user who carried them out. "
     ]
    },
    {
     "cell_type": "code",
     "collapsed": false,
     "input": [
      "print sample_user['_id']\n",
      "print sample_user['name']\n",
      "print sample_user['ip']"
     ],
     "language": "python",
     "metadata": {},
     "outputs": [
      {
       "output_type": "stream",
       "stream": "stdout",
       "text": [
        "503fad32ba40af241100063a\n",
        "KWillett\n",
        "131.212.231.203\n"
       ]
      }
     ],
     "prompt_number": 159
    }
   ],
   "metadata": {}
  }
 ]
}